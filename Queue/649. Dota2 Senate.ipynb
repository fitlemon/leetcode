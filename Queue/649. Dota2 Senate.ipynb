{
 "cells": [
  {
   "cell_type": "markdown",
   "metadata": {},
   "source": [
    "## 649. Dota2 Senate\n"
   ]
  },
  {
   "cell_type": "markdown",
   "metadata": {},
   "source": [
    "In the world of Dota2, there are two parties: the Radiant and the Dire.\n",
    "\n",
    "The Dota2 senate consists of senators coming from two parties. Now the Senate wants to decide on a change in the Dota2 game. The voting for this change is a round-based procedure. In each round, each senator can exercise one of the two rights:\n",
    "\n",
    "- Ban one senator's right: A senator can make another senator lose all his rights in this and all the following rounds.\n",
    "- Announce the victory: If this senator found the senators who still have rights to vote are all from the same party, he can announce the victory and decide on the change in the game.\n",
    "\n",
    "Given a string senate representing each senator's party belonging. The character 'R' and 'D' represent the Radiant party and the Dire party. Then if there are n senators, the size of the given string will be n.\n",
    "\n",
    "The round-based procedure starts from the first senator to the last senator in the given order. This procedure will last until the end of voting. All the senators who have lost their rights will be skipped during the procedure.\n",
    "\n",
    "Suppose every senator is smart enough and will play the best strategy for his own party. Predict which party will finally announce the victory and change the Dota2 game. The output should be \"Radiant\" or \"Dire\"."
   ]
  },
  {
   "cell_type": "markdown",
   "metadata": {},
   "source": [
    "### Example 1:\n",
    "\n",
    "    Input: senate = \"RD\"\n",
    "    Output: \"Radiant\"\n",
    "    Explanation: \n",
    "    The first senator comes from Radiant and he can just ban the next senator's right in round 1. \n",
    "    And the second senator can't exercise any rights anymore since his right has been banned. \n",
    "    And in round 2, the first senator can just announce the victory since he is the only guy in the senate who can vote.\n"
   ]
  },
  {
   "cell_type": "markdown",
   "metadata": {},
   "source": [
    "\n",
    "\n",
    "### Example 2:\n",
    "\n",
    "    Input: senate = \"RDD\"\n",
    "    Output: \"Dire\"\n",
    "    Explanation: \n",
    "    The first senator comes from Radiant and he can just ban the next senator's right in round 1. \n",
    "    And the second senator can't exercise any rights anymore since his right has been banned. \n",
    "    And the third senator comes from Dire and he can ban the first senator's right in round 1. \n",
    "    And in round 2, the third senator can just announce the victory since he is the only guy in the senate who can vote.\n"
   ]
  },
  {
   "cell_type": "code",
   "execution_count": 15,
   "metadata": {},
   "outputs": [],
   "source": [
    "from collections import deque"
   ]
  },
  {
   "cell_type": "code",
   "execution_count": 22,
   "metadata": {},
   "outputs": [],
   "source": [
    "class Solution:\n",
    "    def predictPartyVictory(self, senate: str) -> str:\n",
    "        senate = list(senate)\n",
    "        antis= {'D': 'R', 'R': 'D'}\n",
    "        while len(senate) > 1:\n",
    "            senator = senate.pop(0)\n",
    "            if antis[senator] in senate:\n",
    "                senate.pop(senate.index(antis[senator]))\n",
    "            else:\n",
    "                break\n",
    "            senate.append(senator)\n",
    "        if senate[0] == 'D':\n",
    "            return 'Dire'\n",
    "        else:\n",
    "            return 'Radiant'"
   ]
  },
  {
   "cell_type": "code",
   "execution_count": 23,
   "metadata": {},
   "outputs": [
    {
     "data": {
      "text/plain": [
       "'Dire'"
      ]
     },
     "execution_count": 23,
     "metadata": {},
     "output_type": "execute_result"
    }
   ],
   "source": [
    "\n",
    "foo = Solution()\n",
    "foo.predictPartyVictory(\"DDRRR\")"
   ]
  },
  {
   "cell_type": "code",
   "execution_count": null,
   "metadata": {},
   "outputs": [],
   "source": [
    "from collections import deque\n",
    "class Solution:\n",
    "    def predictPartyVictory(self, senate: str) -> str:\n",
    "        n = len(senate)\n",
    "\n",
    "        d_turn = deque()\n",
    "        r_turn = deque()\n",
    "\n",
    "        for idx, s in enumerate(senate):\n",
    "            if s == 'D':\n",
    "                d_turn.append(idx)\n",
    "            else:\n",
    "                r_turn.append(idx)\n",
    "        \n",
    "        while d_turn and r_turn:\n",
    "            nextD = d_turn.popleft()\n",
    "            nextR = r_turn.popleft()\n",
    "\n",
    "            if nextD < nextR:\n",
    "                d_turn.append(nextD + n)\n",
    "            else:\n",
    "                r_turn.append(nextR + n)\n",
    "        \n",
    "        return 'Radiant' if r_turn else 'Dire'\n",
    "        "
   ]
  }
 ],
 "metadata": {
  "kernelspec": {
   "display_name": ".venv",
   "language": "python",
   "name": "python3"
  },
  "language_info": {
   "codemirror_mode": {
    "name": "ipython",
    "version": 3
   },
   "file_extension": ".py",
   "mimetype": "text/x-python",
   "name": "python",
   "nbconvert_exporter": "python",
   "pygments_lexer": "ipython3",
   "version": "3.10.12"
  },
  "orig_nbformat": 4
 },
 "nbformat": 4,
 "nbformat_minor": 2
}
